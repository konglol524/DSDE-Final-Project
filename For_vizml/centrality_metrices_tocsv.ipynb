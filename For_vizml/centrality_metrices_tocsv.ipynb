{
 "cells": [
  {
   "cell_type": "code",
   "execution_count": 1,
   "metadata": {},
   "outputs": [
    {
     "name": "stdout",
     "output_type": "stream",
     "text": [
      "Centrality metrics saved to centrality_metrics.csv\n"
     ]
    }
   ],
   "source": [
    "import pandas as pd\n",
    "import networkx as nx\n",
    "\n",
    "# Load data\n",
    "cocity_df = pd.read_csv('cocity.csv')\n",
    "city_df = pd.read_csv('city.csv')\n",
    "\n",
    "# Create the graph\n",
    "G = nx.Graph()\n",
    "for _, row in cocity_df.iterrows():\n",
    "    city1 = city_df.loc[city_df['city_id'] == row['city_id1'], 'city'].values[0]\n",
    "    city2 = city_df.loc[city_df['city_id'] == row['city_id2'], 'city'].values[0]\n",
    "    G.add_edge(city1, city2, weight=row['colab_count'])\n",
    "\n",
    "# Calculate centrality metrics\n",
    "degree_centrality = nx.degree_centrality(G)\n",
    "betweenness_centrality = nx.betweenness_centrality(G, weight='weight')\n",
    "closeness_centrality = nx.closeness_centrality(G)\n",
    "\n",
    "# Combine centrality metrics into a dataframe\n",
    "centrality_data = pd.DataFrame({\n",
    "    'City': degree_centrality.keys(),\n",
    "    'Degree Centrality': degree_centrality.values(),\n",
    "    'Betweenness Centrality': betweenness_centrality.values(),\n",
    "    'Closeness Centrality': closeness_centrality.values()\n",
    "})\n",
    "\n",
    "# Save to CSV\n",
    "centrality_data.to_csv('centrality_metrics.csv', index=False)\n",
    "print(\"Centrality metrics saved to centrality_metrics.csv\")\n"
   ]
  }
 ],
 "metadata": {
  "kernelspec": {
   "display_name": "Python 3",
   "language": "python",
   "name": "python3"
  },
  "language_info": {
   "codemirror_mode": {
    "name": "ipython",
    "version": 3
   },
   "file_extension": ".py",
   "mimetype": "text/x-python",
   "name": "python",
   "nbconvert_exporter": "python",
   "pygments_lexer": "ipython3",
   "version": "3.11.4"
  }
 },
 "nbformat": 4,
 "nbformat_minor": 2
}
